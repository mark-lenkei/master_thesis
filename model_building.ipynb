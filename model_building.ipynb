{
 "cells": [
  {
   "cell_type": "code",
   "execution_count": 1,
   "id": "e778d94b-8073-47bd-8c88-0344ccdf70d9",
   "metadata": {},
   "outputs": [],
   "source": [
    "import pandas as pd\n",
    "import numpy as np\n",
    "import matplotlib.pyplot as plt\n",
    "import seaborn as sns\n",
    "import datetime\n",
    "import scipy\n",
    "import statsmodels.api as sm\n",
    "from linearmodels.panel import PanelOLS\n",
    "import xgboost as xgb"
   ]
  },
  {
   "cell_type": "code",
   "execution_count": 2,
   "id": "9d2a6eeb-9205-4668-af65-b6b9a72f0068",
   "metadata": {},
   "outputs": [],
   "source": [
    "train_df = pd.read_csv(\"data/train_modified.csv\", index_col=\"id\")\n",
    "test_df = pd.read_csv(\"data/test.csv\", index_col=\"id\")\n",
    "oil_df = pd.read_csv(\"data/oil.csv\")"
   ]
  },
  {
   "cell_type": "code",
   "execution_count": 3,
   "id": "18e9bfa7-0499-441c-b77b-e7f743d3d9d7",
   "metadata": {},
   "outputs": [],
   "source": [
    "train_df[\"date\"] = pd.to_datetime(train_df[\"date\"])\n",
    "train_df[\"store_nbr\"] = train_df[\"store_nbr\"].astype(\"int16\")\n",
    "train_df[\"family\"] = train_df[\"family\"].astype(\"category\")\n",
    "train_df[\"sales\"] = train_df[\"sales\"].astype(\"float32\")\n",
    "train_df[\"onpromotion\"] = train_df[\"onpromotion\"].astype(\"float16\")\n",
    "train_df[\"month\"] = train_df[\"month\"].astype(\"category\")\n",
    "train_df[\"day\"] = train_df[\"day\"].astype(\"category\")\n",
    "train_df[\"week_part\"] = train_df[\"week_part\"].astype(\"category\")\n",
    "train_df[\"days_since_last_promo\"] = train_df[\"days_since_last_promo\"].astype(\"int16\")\n",
    "train_df[\"bin_last_promo\"] = train_df[\"bin_last_promo\"].astype(\"category\")\n",
    "train_df[\"locale\"] = train_df[\"locale\"].astype(\"category\")\n",
    "train_df[\"type\"] = train_df[\"type\"].astype(\"category\")\n",
    "train_df[\"cluster\"] = train_df[\"cluster\"].astype(\"category\")\n",
    "oil_df[\"date\"] = pd.to_datetime(oil_df[\"date\"])"
   ]
  },
  {
   "cell_type": "code",
   "execution_count": 4,
   "id": "77f605dc-7944-4cb8-9d00-846c16b7793a",
   "metadata": {},
   "outputs": [],
   "source": [
    "train_df = pd.merge(train_df, oil_df, on=\"date\", how=\"left\")\n",
    "train_df[\"dcoilwtico\"] = train_df[\"dcoilwtico\"].fillna(method=\"ffill\")\n",
    "train_df[\"dcoilwtico\"] = train_df[\"dcoilwtico\"].fillna(method=\"bfill\")"
   ]
  },
  {
   "cell_type": "code",
   "execution_count": 5,
   "id": "aac56373-106f-4a7c-bc8c-ff905c87463a",
   "metadata": {},
   "outputs": [],
   "source": [
    "train_df[\"weekend\"] = train_df['week_part'].apply(lambda x: x == 'Weekend')\n",
    "train_df[\"weekend\"] = train_df[\"weekend\"].astype(\"bool\")\n",
    "train_df = train_df.drop(\"week_part\", axis=1)"
   ]
  },
  {
   "cell_type": "code",
   "execution_count": 6,
   "id": "e27d01f4-aef4-491b-9d8c-a47015d5099f",
   "metadata": {},
   "outputs": [],
   "source": [
    "test_df[\"date\"] = pd.to_datetime(test_df[\"date\"])\n",
    "test_df = pd.merge(test_df, oil_df, on=\"date\", how=\"left\")\n",
    "test_df[\"dcoilwtico\"] = test_df[\"dcoilwtico\"].fillna(method=\"ffill\")\n",
    "test_df[\"year\"] = test_df[\"date\"].dt.year\n",
    "test_df[\"month\"] = test_df[\"date\"].dt.month\n",
    "test_df[\"day\"] = test_df[\"date\"].dt.day"
   ]
  },
  {
   "cell_type": "markdown",
   "id": "cb08deec-55f9-47a0-a85d-7c8585c989cc",
   "metadata": {},
   "source": [
    "### Panel Regression"
   ]
  },
  {
   "cell_type": "code",
   "execution_count": 7,
   "id": "24313a47-dac9-4cb9-b571-16c05f54e5f4",
   "metadata": {},
   "outputs": [],
   "source": [
    "num_features = [\"store_nbr\", \"onpromotion\", \"is_holiday\", \"weekend\", \"dcoilwtico\"]\n",
    "cat_features = [\"family\"]"
   ]
  },
  {
   "cell_type": "code",
   "execution_count": 8,
   "id": "5c755086-348c-497c-832b-35f1984370f5",
   "metadata": {},
   "outputs": [],
   "source": [
    "X = train_df.drop(\"sales\", axis=1)[[\"date\"] + num_features + cat_features]\n",
    "X.set_index([\"store_nbr\", \"date\"], inplace=True)\n",
    "X = pd.get_dummies(X)\n",
    "y = train_df[[\"sales\", \"store_nbr\", \"date\"]]\n",
    "y.set_index([\"store_nbr\", \"date\"], inplace=True)"
   ]
  },
  {
   "cell_type": "code",
   "execution_count": 9,
   "id": "9b250f42-d2a4-429e-983b-fe3791d665c9",
   "metadata": {},
   "outputs": [
    {
     "name": "stderr",
     "output_type": "stream",
     "text": [
      "/var/folders/14/8l60xyhn23vgqk95vx1p0rv00000gn/T/ipykernel_1763/3671716052.py:2: AbsorbingEffectWarning: \n",
      "Variables have been fully absorbed and have removed from the regression:\n",
      "\n",
      "is_holiday, weekend, family_SEAFOOD\n",
      "\n",
      "  panel_model = panel_regression_model.fit(cov_type='clustered', cluster_entity=True, cluster_time=True)\n"
     ]
    }
   ],
   "source": [
    "panel_regression_model = PanelOLS(y, X, entity_effects=True, time_effects=True, check_rank=False, drop_absorbed=True)\n",
    "panel_model = panel_regression_model.fit(cov_type='clustered', cluster_entity=True, cluster_time=True)"
   ]
  },
  {
   "cell_type": "code",
   "execution_count": 10,
   "id": "71a62fe5-869c-4460-bfad-19404081068c",
   "metadata": {},
   "outputs": [
    {
     "name": "stdout",
     "output_type": "stream",
     "text": [
      "                          PanelOLS Estimation Summary                           \n",
      "================================================================================\n",
      "Dep. Variable:                  sales   R-squared:                        0.5596\n",
      "Estimator:                   PanelOLS   R-squared (Between):              0.6112\n",
      "No. Observations:             3054348   R-squared (Within):               0.5479\n",
      "Date:                Wed, Feb 22 2023   R-squared (Overall):              0.5566\n",
      "Time:                        12:56:53   Log-likelihood                 -2.44e+07\n",
      "Cov. Estimator:             Clustered                                           \n",
      "                                        F-statistic:                   1.141e+05\n",
      "Entities:                          54   P-value                           0.0000\n",
      "Avg Obs:                    5.656e+04   Distribution:              F(34,3052577)\n",
      "Min Obs:                    5.656e+04                                           \n",
      "Max Obs:                    5.656e+04   F-statistic (robust):             40.022\n",
      "                                        P-value                           0.0000\n",
      "Time periods:                    1684   Distribution:              F(34,3052577)\n",
      "Avg Obs:                       1813.7                                           \n",
      "Min Obs:                       1782.0                                           \n",
      "Max Obs:                       7128.0                                           \n",
      "                                                                                \n",
      "                                         Parameter Estimates                                         \n",
      "=====================================================================================================\n",
      "                                   Parameter  Std. Err.     T-stat    P-value    Lower CI    Upper CI\n",
      "-----------------------------------------------------------------------------------------------------\n",
      "onpromotion                           17.583     1.8519     9.4947     0.0000      13.953      21.213\n",
      "dcoilwtico                            2.2505                                                         \n",
      "family_AUTOMOTIVE                    -9.4080     2.7637    -3.4041     0.0007     -14.825     -3.9911\n",
      "family_BABY CARE                     -14.468     2.9723    -4.8677     0.0000     -20.294     -8.6426\n",
      "family_BEAUTY                        -13.488     2.8842    -4.6765     0.0000     -19.141     -7.8351\n",
      "family_BEVERAGES                      2203.5     212.36     10.376     0.0000      1787.3      2619.7\n",
      "family_BOOKS                         -14.499     2.9568    -4.9035     0.0000     -20.294     -8.7034\n",
      "family_BREAD/BAKERY                   384.04     36.905     10.406     0.0000      311.71      456.37\n",
      "family_CELEBRATION                   -7.4505     2.4820    -3.0018     0.0027     -12.315     -2.5859\n",
      "family_CLEANING                       930.16     68.986     13.483     0.0000      794.95      1065.4\n",
      "family_DAIRY                          555.59     67.168     8.2716     0.0000      423.95      687.24\n",
      "family_DELI                           138.13     18.452     7.4862     0.0000      101.97      174.30\n",
      "family_EGGS                           119.37     11.907     10.026     0.0000      96.033      142.71\n",
      "family_FROZEN FOODS                   119.02     15.463     7.6972     0.0000      88.714      149.33\n",
      "family_GROCERY I                      3401.1     273.47     12.437     0.0000      2865.1      3937.1\n",
      "family_GROCERY II                     5.6174     1.3065     4.2997     0.0000      3.0568      8.1780\n",
      "family_HARDWARE                      -13.463     2.8986    -4.6447     0.0000     -19.144     -7.7820\n",
      "family_HOME AND KITCHEN I            -3.1633     2.6977    -1.1726     0.2410     -8.4507      2.1241\n",
      "family_HOME AND KITCHEN II           -4.1479     2.5543    -1.6239     0.1044     -9.1542      0.8584\n",
      "family_HOME APPLIANCES               -14.124     2.9121    -4.8500     0.0000     -19.831     -8.4161\n",
      "family_HOME CARE                      124.11     10.398     11.936     0.0000      103.73      144.49\n",
      "family_LADIESWEAR                    -7.6686     2.4004    -3.1947     0.0014     -12.373     -2.9638\n",
      "family_LAWN AND GARDEN               -10.661     2.6189    -4.0708     0.0000     -15.794     -5.5280\n",
      "family_LINGERIE                      -7.9333     2.7025    -2.9355     0.0033     -13.230     -2.6365\n",
      "family_LIQUOR,WINE,BEER               62.161     5.7683     10.776     0.0000      50.855      73.466\n",
      "family_MAGAZINES                     -11.670     2.6185    -4.4566     0.0000     -16.802     -6.5377\n",
      "family_MEATS                          268.30     32.159     8.3430     0.0000      205.27      331.33\n",
      "family_PERSONAL CARE                  208.41     18.281     11.400     0.0000      172.58      244.24\n",
      "family_PET SUPPLIES                  -11.261     2.5325    -4.4464     0.0000     -16.224     -6.2970\n",
      "family_PLAYERS AND ELECTRONICS       -8.7029     2.3768    -3.6616     0.0003     -13.361     -4.0445\n",
      "family_POULTRY                        292.65     38.052     7.6907     0.0000      218.07      367.23\n",
      "family_PREPARED FOODS                 75.101     9.8161     7.6508     0.0000      55.862      94.340\n",
      "family_PRODUCE                        1127.4     163.38     6.9002     0.0000      807.16      1447.6\n",
      "family_SCHOOL AND OFFICE SUPPLIES    -14.463     2.9361    -4.9261     0.0000     -20.218     -8.7088\n",
      "=====================================================================================================\n",
      "\n",
      "F-test for Poolability: 217.31\n",
      "P-value: 0.0000\n",
      "Distribution: F(1736,3052577)\n",
      "\n",
      "Included effects: Entity, Time\n"
     ]
    },
    {
     "name": "stderr",
     "output_type": "stream",
     "text": [
      "/Users/marklenkei/opt/miniconda3/envs/sales-forecasting/lib/python3.10/site-packages/linearmodels/panel/results.py:87: RuntimeWarning: invalid value encountered in sqrt\n",
      "  return Series(np.sqrt(np.diag(self.cov)), self._var_names, name=\"std_error\")\n",
      "/Users/marklenkei/opt/miniconda3/envs/sales-forecasting/lib/python3.10/site-packages/linearmodels/panel/results.py:87: RuntimeWarning: invalid value encountered in sqrt\n",
      "  return Series(np.sqrt(np.diag(self.cov)), self._var_names, name=\"std_error\")\n",
      "/Users/marklenkei/opt/miniconda3/envs/sales-forecasting/lib/python3.10/site-packages/linearmodels/panel/results.py:87: RuntimeWarning: invalid value encountered in sqrt\n",
      "  return Series(np.sqrt(np.diag(self.cov)), self._var_names, name=\"std_error\")\n",
      "/Users/marklenkei/opt/miniconda3/envs/sales-forecasting/lib/python3.10/site-packages/linearmodels/panel/results.py:87: RuntimeWarning: invalid value encountered in sqrt\n",
      "  return Series(np.sqrt(np.diag(self.cov)), self._var_names, name=\"std_error\")\n"
     ]
    }
   ],
   "source": [
    "print(panel_model.summary)"
   ]
  },
  {
   "cell_type": "code",
   "execution_count": 11,
   "id": "452e07ef-b47f-4583-83c3-2f2f702f0217",
   "metadata": {},
   "outputs": [],
   "source": [
    "panel_test = test_df[[\"date\", \"store_nbr\", \"onpromotion\", \"dcoilwtico\", \"family\"]]\n",
    "panel_test.set_index([\"store_nbr\", \"date\"], inplace=True)\n",
    "panel_test = pd.get_dummies(panel_test)\n",
    "panel_test = panel_test.drop(\"family_SEAFOOD\", axis=1)"
   ]
  },
  {
   "cell_type": "code",
   "execution_count": 12,
   "id": "4a4f6451-8a2d-4b01-a21f-583f73e391eb",
   "metadata": {},
   "outputs": [],
   "source": [
    "panel_pred = panel_model.predict(panel_test)"
   ]
  },
  {
   "cell_type": "code",
   "execution_count": 13,
   "id": "40ac57cb-204e-4f94-a51a-657988d5b98f",
   "metadata": {},
   "outputs": [
    {
     "data": {
      "text/plain": [
       "28512"
      ]
     },
     "execution_count": 13,
     "metadata": {},
     "output_type": "execute_result"
    }
   ],
   "source": [
    "len(panel_pred)"
   ]
  },
  {
   "cell_type": "code",
   "execution_count": 14,
   "id": "cfd9f693-1e0b-4d07-b6df-456bfc093a7a",
   "metadata": {},
   "outputs": [
    {
     "data": {
      "text/html": [
       "<div>\n",
       "<style scoped>\n",
       "    .dataframe tbody tr th:only-of-type {\n",
       "        vertical-align: middle;\n",
       "    }\n",
       "\n",
       "    .dataframe tbody tr th {\n",
       "        vertical-align: top;\n",
       "    }\n",
       "\n",
       "    .dataframe thead th {\n",
       "        text-align: right;\n",
       "    }\n",
       "</style>\n",
       "<table border=\"1\" class=\"dataframe\">\n",
       "  <thead>\n",
       "    <tr style=\"text-align: right;\">\n",
       "      <th></th>\n",
       "      <th></th>\n",
       "      <th>predictions</th>\n",
       "    </tr>\n",
       "    <tr>\n",
       "      <th>store_nbr</th>\n",
       "      <th>date</th>\n",
       "      <th></th>\n",
       "    </tr>\n",
       "  </thead>\n",
       "  <tbody>\n",
       "    <tr>\n",
       "      <th rowspan=\"5\" valign=\"top\">1</th>\n",
       "      <th>2017-08-16</th>\n",
       "      <td>95.915999</td>\n",
       "    </tr>\n",
       "    <tr>\n",
       "      <th>2017-08-16</th>\n",
       "      <td>90.855858</td>\n",
       "    </tr>\n",
       "    <tr>\n",
       "      <th>2017-08-16</th>\n",
       "      <td>127.002007</td>\n",
       "    </tr>\n",
       "    <tr>\n",
       "      <th>2017-08-16</th>\n",
       "      <td>2660.507984</td>\n",
       "    </tr>\n",
       "    <tr>\n",
       "      <th>2017-08-16</th>\n",
       "      <td>90.825358</td>\n",
       "    </tr>\n",
       "    <tr>\n",
       "      <th>...</th>\n",
       "      <th>...</th>\n",
       "      <td>...</td>\n",
       "    </tr>\n",
       "    <tr>\n",
       "      <th rowspan=\"5\" valign=\"top\">9</th>\n",
       "      <th>2017-08-31</th>\n",
       "      <td>416.590572</td>\n",
       "    </tr>\n",
       "    <tr>\n",
       "      <th>2017-08-31</th>\n",
       "      <td>181.460038</td>\n",
       "    </tr>\n",
       "    <tr>\n",
       "      <th>2017-08-31</th>\n",
       "      <td>1251.323797</td>\n",
       "    </tr>\n",
       "    <tr>\n",
       "      <th>2017-08-31</th>\n",
       "      <td>250.142745</td>\n",
       "    </tr>\n",
       "    <tr>\n",
       "      <th>2017-08-31</th>\n",
       "      <td>106.359217</td>\n",
       "    </tr>\n",
       "  </tbody>\n",
       "</table>\n",
       "<p>28512 rows × 1 columns</p>\n",
       "</div>"
      ],
      "text/plain": [
       "                      predictions\n",
       "store_nbr date                   \n",
       "1         2017-08-16    95.915999\n",
       "          2017-08-16    90.855858\n",
       "          2017-08-16   127.002007\n",
       "          2017-08-16  2660.507984\n",
       "          2017-08-16    90.825358\n",
       "...                           ...\n",
       "9         2017-08-31   416.590572\n",
       "          2017-08-31   181.460038\n",
       "          2017-08-31  1251.323797\n",
       "          2017-08-31   250.142745\n",
       "          2017-08-31   106.359217\n",
       "\n",
       "[28512 rows x 1 columns]"
      ]
     },
     "execution_count": 14,
     "metadata": {},
     "output_type": "execute_result"
    }
   ],
   "source": [
    "panel_pred"
   ]
  },
  {
   "cell_type": "markdown",
   "id": "80ea6b31-1a35-4553-ac83-873c86857c68",
   "metadata": {},
   "source": [
    "### XGBoost"
   ]
  },
  {
   "cell_type": "code",
   "execution_count": 15,
   "id": "d036171d-7b5c-4676-ace2-b3b4c895a775",
   "metadata": {},
   "outputs": [],
   "source": [
    "num_features = [\"store_nbr\", \"onpromotion\", \"dcoilwtico\"]\n",
    "cat_features = [\"family\"]\n",
    "\n",
    "X_xgb = train_df.drop(\"sales\", axis=1)[[\"date\"] + num_features + cat_features]\n",
    "X_xgb['year'] = X_xgb['date'].dt.year\n",
    "X_xgb['month'] = X_xgb['date'].dt.month\n",
    "X_xgb['day'] = X_xgb['date'].dt.day\n",
    "X_xgb = X_xgb.drop(\"date\", axis=1)\n",
    "X_xgb = pd.get_dummies(X_xgb)\n",
    "y = train_df[\"sales\"]\n",
    "\n",
    "\n",
    "\n",
    "train_dmatrix = xgb.DMatrix(X_xgb, label=y)\n",
    "params = {\n",
    "    'objective': 'reg:squarederror',\n",
    "    'eval_metric': 'rmse',\n",
    "    'eta': 0.1,\n",
    "    'max_depth': 6,\n",
    "    'subsample': 0.8,\n",
    "    'colsample_bytree': 0.8,\n",
    "}"
   ]
  },
  {
   "cell_type": "code",
   "execution_count": 16,
   "id": "886bdc5c-b702-492e-9565-b0b6f7cdb9de",
   "metadata": {},
   "outputs": [],
   "source": [
    "model = xgb.train(params, train_dmatrix, num_boost_round=100)"
   ]
  },
  {
   "cell_type": "code",
   "execution_count": 17,
   "id": "fdd607ab-b485-4a87-bdc3-153feb64afec",
   "metadata": {},
   "outputs": [],
   "source": [
    "xgb_test = test_df.drop(\"date\", axis=1)\n",
    "xgb_test = pd.get_dummies(xgb_test)\n",
    "test_dmatrix = xgb.DMatrix(xgb_test)"
   ]
  },
  {
   "cell_type": "code",
   "execution_count": 18,
   "id": "2e509c93-86a0-4c82-beeb-4ca6af6ff3c0",
   "metadata": {},
   "outputs": [],
   "source": [
    "xgb_pred = model.predict(test_dmatrix)"
   ]
  },
  {
   "cell_type": "code",
   "execution_count": 19,
   "id": "37e474fc-3780-45fc-b101-c032c3e6c76f",
   "metadata": {},
   "outputs": [
    {
     "data": {
      "text/plain": [
       "28512"
      ]
     },
     "execution_count": 19,
     "metadata": {},
     "output_type": "execute_result"
    }
   ],
   "source": [
    "len(xgb_pred)"
   ]
  },
  {
   "cell_type": "code",
   "execution_count": 20,
   "id": "f5746f36-1925-4023-9c7e-89425d9a3975",
   "metadata": {},
   "outputs": [
    {
     "data": {
      "text/plain": [
       "array([   1.9185929,    1.9185929,    2.4299207, ..., 1512.0491   ,\n",
       "        366.1884   ,   46.5642   ], dtype=float32)"
      ]
     },
     "execution_count": 20,
     "metadata": {},
     "output_type": "execute_result"
    }
   ],
   "source": [
    "xgb_pred"
   ]
  },
  {
   "cell_type": "code",
   "execution_count": null,
   "id": "5743594c-7e30-4c71-aba3-7fc813d4d100",
   "metadata": {},
   "outputs": [],
   "source": []
  }
 ],
 "metadata": {
  "kernelspec": {
   "display_name": "Python 3 (ipykernel)",
   "language": "python",
   "name": "python3"
  },
  "language_info": {
   "codemirror_mode": {
    "name": "ipython",
    "version": 3
   },
   "file_extension": ".py",
   "mimetype": "text/x-python",
   "name": "python",
   "nbconvert_exporter": "python",
   "pygments_lexer": "ipython3",
   "version": "3.10.9"
  }
 },
 "nbformat": 4,
 "nbformat_minor": 5
}
