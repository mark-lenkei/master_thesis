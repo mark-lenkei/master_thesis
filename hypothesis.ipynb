{
 "cells": [
  {
   "cell_type": "markdown",
   "id": "9d4e32c7-3929-4b34-b5b2-f900dca56d52",
   "metadata": {},
   "source": [
    "# Hypothesis testing"
   ]
  },
  {
   "cell_type": "code",
   "execution_count": 2,
   "id": "c4ac88b7-8b6e-4982-a8f4-7c46c18cd03a",
   "metadata": {},
   "outputs": [],
   "source": [
    "import pandas as pd\n",
    "import numpy as np\n",
    "import matplotlib.pyplot as plt\n",
    "import seaborn as sns\n",
    "import datetime\n",
    "import scipy\n",
    "from IPython.display import display, clear_output\n",
    "from tqdm import tqdm"
   ]
  },
  {
   "cell_type": "code",
   "execution_count": 3,
   "id": "d34926eb-e224-4cfe-a05a-d4bf61afe9e8",
   "metadata": {},
   "outputs": [],
   "source": [
    "df = pd.read_csv(\"data/train.csv\")\n",
    "oil = pd.read_csv(\"data/oil.csv\")"
   ]
  },
  {
   "cell_type": "code",
   "execution_count": 4,
   "id": "fdcc23fe-4cd0-4451-a537-de9fd363e13e",
   "metadata": {},
   "outputs": [],
   "source": [
    "df[\"date\"] = pd.to_datetime(df[\"date\"])\n",
    "oil[\"date\"] = pd.to_datetime(oil[\"date\"])"
   ]
  },
  {
   "cell_type": "code",
   "execution_count": 5,
   "id": "c6125780-2a99-4333-b066-77c241f74ef8",
   "metadata": {},
   "outputs": [],
   "source": [
    "df = df.merge(oil, on=\"date\")\n",
    "df = df.dropna()"
   ]
  },
  {
   "cell_type": "code",
   "execution_count": 9,
   "id": "cfd3ba2e-e39c-4cd9-ad27-97a9ed34b877",
   "metadata": {},
   "outputs": [
    {
     "name": "stderr",
     "output_type": "stream",
     "text": [
      "100%|█████████████████████████████████| 300000/300000 [1:31:46<00:00, 54.48it/s]"
     ]
    },
    {
     "name": "stdout",
     "output_type": "stream",
     "text": [
      "Observed difference in means: -153.15382834391974\n",
      "P-value: 0.0\n"
     ]
    },
    {
     "name": "stderr",
     "output_type": "stream",
     "text": [
      "\n"
     ]
    }
   ],
   "source": [
    "group1 = df.loc[df[\"dcoilwtico\"] >= 70 , \"sales\"]\n",
    "group2 = df.loc[df[\"dcoilwtico\"] < 70, \"sales\"]\n",
    "\n",
    "observed_diff = group1.mean() - group2.mean()\n",
    "\n",
    "# Concatenate the two groups into one array\n",
    "combined = np.concatenate((group1, group2))\n",
    "\n",
    "# Set the number of permutations to perform\n",
    "n_permutations = 300000\n",
    "\n",
    "# Initialize an array to store the permuted differences in means\n",
    "permuted_diffs = np.zeros(n_permutations)\n",
    "\n",
    "# Perform the permutations\n",
    "for i in tqdm(range(n_permutations)):\n",
    "    # Randomly shuffle the combined array\n",
    "    np.random.shuffle(combined)\n",
    "    \n",
    "    # Split the shuffled array back into two groups\n",
    "    permuted_group1 = combined[:len(group1)]\n",
    "    permuted_group2 = combined[len(group1):]\n",
    "    \n",
    "    # Calculate the difference in means between the permuted groups\n",
    "    permuted_diff = permuted_group1.mean() - permuted_group2.mean()\n",
    "    \n",
    "    # Store the permuted difference in the array\n",
    "    permuted_diffs[i] = permuted_diff\n",
    "\n",
    "# Calculate the p-value as the proportion of permuted differences that are at least as extreme as the observed difference\n",
    "p_value = (np.abs(permuted_diffs) >= np.abs(observed_diff)).mean()\n",
    "\n",
    "# Print the results\n",
    "print(\"Observed difference in means:\", observed_diff)\n",
    "print(\"P-value:\", p_value)"
   ]
  },
  {
   "cell_type": "code",
   "execution_count": null,
   "id": "603c85c2-f606-4438-8c2f-caa28c23c691",
   "metadata": {},
   "outputs": [],
   "source": []
  }
 ],
 "metadata": {
  "kernelspec": {
   "display_name": "Python 3 (ipykernel)",
   "language": "python",
   "name": "python3"
  },
  "language_info": {
   "codemirror_mode": {
    "name": "ipython",
    "version": 3
   },
   "file_extension": ".py",
   "mimetype": "text/x-python",
   "name": "python",
   "nbconvert_exporter": "python",
   "pygments_lexer": "ipython3",
   "version": "3.10.9"
  }
 },
 "nbformat": 4,
 "nbformat_minor": 5
}
